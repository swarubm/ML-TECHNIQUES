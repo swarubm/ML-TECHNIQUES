{
  "cells": [
    {
      "cell_type": "markdown",
      "metadata": {
        "id": "view-in-github",
        "colab_type": "text"
      },
      "source": [
        "<a href=\"https://colab.research.google.com/github/swarubm/ML-TECHNIQUES/blob/main/imputation.ipynb\" target=\"_parent\"><img src=\"https://colab.research.google.com/assets/colab-badge.svg\" alt=\"Open In Colab\"/></a>"
      ]
    },
    {
      "cell_type": "code",
      "source": [
        "import pandas as pd\n",
        "import numpy as np"
      ],
      "metadata": {
        "id": "EdOG82KdXbFy"
      },
      "execution_count": 1,
      "outputs": []
    },
    {
      "cell_type": "code",
      "source": [
        "data = {'age': [25, np.nan, 30, np.nan, 35],\n",
        "        'salary': [50000, 60000, np.nan, 90000, np.nan]}\n",
        "\n",
        "dataframe = pd.DataFrame(data)\n",
        "print(dataframe)"
      ],
      "metadata": {
        "id": "qjFSvPeqXc5K",
        "outputId": "608a6782-4a7b-494a-e0b7-a33eb3573cf1",
        "colab": {
          "base_uri": "https://localhost:8080/"
        }
      },
      "execution_count": 2,
      "outputs": [
        {
          "output_type": "stream",
          "name": "stdout",
          "text": [
            "    age   salary\n",
            "0  25.0  50000.0\n",
            "1   NaN  60000.0\n",
            "2  30.0      NaN\n",
            "3   NaN  90000.0\n",
            "4  35.0      NaN\n"
          ]
        }
      ]
    },
    {
      "cell_type": "code",
      "source": [
        "from sklearn.impute import SimpleImputer\n",
        "\n",
        "imputer = SimpleImputer(strategy='mean')\n",
        "imputed_data = imputer.fit_transform(dataframe)\n",
        "imputed_df = pd.DataFrame(imputed_data, columns=dataframe.columns)\n",
        "print(imputed_df)"
      ],
      "metadata": {
        "id": "tyULS8mwXfVb",
        "outputId": "da6dd8cb-8807-4059-bacb-9944e4d777c4",
        "colab": {
          "base_uri": "https://localhost:8080/"
        }
      },
      "execution_count": 3,
      "outputs": [
        {
          "output_type": "stream",
          "name": "stdout",
          "text": [
            "    age        salary\n",
            "0  25.0  50000.000000\n",
            "1  30.0  60000.000000\n",
            "2  30.0  66666.666667\n",
            "3  30.0  90000.000000\n",
            "4  35.0  66666.666667\n"
          ]
        }
      ]
    },
    {
      "cell_type": "code",
      "source": [
        "from sklearn.impute import KNNImputer\n",
        "\n",
        "imputer = KNNImputer(n_neighbors=2)\n",
        "imputed_data = imputer.fit_transform(dataframe)\n",
        "imputed_df = pd.DataFrame(imputed_data, columns=dataframe.columns)\n",
        "print(imputed_df)"
      ],
      "metadata": {
        "id": "TSEHabfiXilS",
        "outputId": "2f4c0a93-f417-432c-df0c-db04aeec3a23",
        "colab": {
          "base_uri": "https://localhost:8080/"
        }
      },
      "execution_count": 4,
      "outputs": [
        {
          "output_type": "stream",
          "name": "stdout",
          "text": [
            "    age   salary\n",
            "0  25.0  50000.0\n",
            "1  25.0  60000.0\n",
            "2  30.0  50000.0\n",
            "3  25.0  90000.0\n",
            "4  35.0  50000.0\n"
          ]
        }
      ]
    }
  ],
  "metadata": {
    "colab": {
      "name": "Welcome To Colab",
      "toc_visible": true,
      "provenance": [],
      "include_colab_link": true
    },
    "kernelspec": {
      "display_name": "Python 3",
      "name": "python3"
    }
  },
  "nbformat": 4,
  "nbformat_minor": 0
}