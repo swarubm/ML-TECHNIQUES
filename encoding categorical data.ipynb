{
  "cells": [
    {
      "cell_type": "markdown",
      "metadata": {
        "id": "view-in-github",
        "colab_type": "text"
      },
      "source": [
        "<a href=\"https://colab.research.google.com/github/swarubm/ML-TECHNIQUES/blob/main/encoding%20categorical%20data.ipynb\" target=\"_parent\"><img src=\"https://colab.research.google.com/assets/colab-badge.svg\" alt=\"Open In Colab\"/></a>"
      ]
    },
    {
      "cell_type": "code",
      "source": [
        "import pandas as pd\n",
        "\n",
        "data = {'Color': ['Red', 'Blue', 'Green', 'Blue', 'Red']}\n",
        "dataframe = pd.DataFrame(data)\n",
        "\n",
        "one_hot_encoded_df = pd.get_dummies(dataframe, columns=['Color'])\n",
        "print(one_hot_encoded_df)"
      ],
      "metadata": {
        "colab": {
          "base_uri": "https://localhost:8080/"
        },
        "id": "rJeMxPfVm8t1",
        "outputId": "12725415-ceaf-401a-fabc-cb31a3467142"
      },
      "execution_count": 1,
      "outputs": [
        {
          "output_type": "stream",
          "name": "stdout",
          "text": [
            "   Color_Blue  Color_Green  Color_Red\n",
            "0       False        False       True\n",
            "1        True        False      False\n",
            "2       False         True      False\n",
            "3        True        False      False\n",
            "4       False        False       True\n"
          ]
        }
      ]
    },
    {
      "cell_type": "code",
      "source": [
        "from sklearn.preprocessing import LabelEncoder\n",
        "\n",
        "label_encoder = LabelEncoder()\n",
        "data = {'Education': ['B.Tech', 'M.Tech', 'Ph.D']}\n",
        "dataframe = pd.DataFrame(data)\n",
        "dataframe['Education'] = label_encoder.fit_transform(dataframe['Education'])\n",
        "print(dataframe)"
      ],
      "metadata": {
        "colab": {
          "base_uri": "https://localhost:8080/"
        },
        "id": "OpoIf4lNm938",
        "outputId": "1f11e24f-74e4-444c-8a2c-01be3a82d783"
      },
      "execution_count": 2,
      "outputs": [
        {
          "output_type": "stream",
          "name": "stdout",
          "text": [
            "   Education\n",
            "0          0\n",
            "1          1\n",
            "2          2\n"
          ]
        }
      ]
    },
    {
      "cell_type": "code",
      "source": [
        "# Recreate the dataframe with the 'Color' column\n",
        "data = {'Color': ['Red', 'Blue', 'Green', 'Blue', 'Red']}\n",
        "color_dataframe = pd.DataFrame(data)\n",
        "\n",
        "# Use the dataframe with the 'Color' column and drop the first dummy column\n",
        "one_hot_encoded_df_dropped = pd.get_dummies(color_dataframe, columns=['Color'], drop_first=True)\n",
        "print(one_hot_encoded_df_dropped)"
      ],
      "metadata": {
        "colab": {
          "base_uri": "https://localhost:8080/"
        },
        "id": "dgHV00KZnpc9",
        "outputId": "cbcad236-9b27-440c-ae14-9d8042ea6e45"
      },
      "execution_count": 10,
      "outputs": [
        {
          "output_type": "stream",
          "name": "stdout",
          "text": [
            "   Color_Green  Color_Red\n",
            "0        False       True\n",
            "1        False      False\n",
            "2         True      False\n",
            "3        False      False\n",
            "4        False       True\n"
          ]
        }
      ]
    }
  ],
  "metadata": {
    "colab": {
      "name": "Welcome To Colab",
      "toc_visible": true,
      "provenance": [],
      "include_colab_link": true
    },
    "kernelspec": {
      "display_name": "Python 3",
      "name": "python3"
    }
  },
  "nbformat": 4,
  "nbformat_minor": 0
}